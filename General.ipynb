{
 "cells": [
  {
   "cell_type": "code",
   "execution_count": 6,
   "metadata": {},
   "outputs": [],
   "source": [
    "import cv2 as cv\n",
    "import numpy as np\n",
    "import matplotlib.pyplot as plt\n",
    "import os\n",
    "from ultralytics import YOLO\n",
    "from PIL import Image"
   ]
  },
  {
   "cell_type": "code",
   "execution_count": 3,
   "metadata": {},
   "outputs": [],
   "source": [
    "# Functions\n",
    "def importImages(path):\n",
    "    \"Function to import all images from a folder\"\n",
    "    images = []\n",
    "    for filename in os.listdir(path):\n",
    "        img = cv.imread(os.path.join(path, filename))\n",
    "        if img is not None:\n",
    "            images.append(img)\n",
    "    return images\n",
    "\n",
    "def showImage(preprocessed=[False,], number=1):\n",
    "    \"Function to show an image\"\n",
    "    if preprocessed[0]:\n",
    "        cv.imshow(\"Image\",preprocessed[1])\n",
    "    else:\n",
    "        cv.imshow(\"Image\", importImages(\"data/easy\")[number])\n",
    "    cv.waitKey(0)\n",
    "    cv.destroyAllWindows()\n",
    "\n",
    "def preprocess(gamma=[False, 1.5], equalize=False, grayscale=False, bilateralFilter=False, gaussianBlur=False):\n",
    "    \"Function to preprocess the images\"\n",
    "    images = importImages(\"data/easy\")\n",
    "    preprocessed = []\n",
    "    for img in images:\n",
    "        # Convert to grayscale if needed\n",
    "        if grayscale:\n",
    "            img = cv.cvtColor(img, cv.COLOR_BGR2GRAY)\n",
    "        \n",
    "        # Apply bilateral filter if needed\n",
    "        if bilateralFilter:\n",
    "            img = cv.bilateralFilter(img, d=9, sigmaColor=75, sigmaSpace=75)\n",
    "        \n",
    "        # Apply Gaussian blur if needed\n",
    "        if gaussianBlur:\n",
    "            img = cv.GaussianBlur(img, (9, 9), 2)\n",
    "        \n",
    "        # Gamma correction\n",
    "        if gamma[0]:\n",
    "            img = img / 255.0  # Normalize to 0-1\n",
    "            img = np.power(img, gamma[1])\n",
    "            img = (img * 255).clip(0, 255).astype(np.uint8)  # Denormalize to 0-255\n",
    "        \n",
    "        # Equalize histogram\n",
    "        if equalize:\n",
    "            if len(img.shape) == 2:  # Grayscale image\n",
    "                img = cv.equalizeHist(img)\n",
    "            else:  # Color image\n",
    "                img_yuv = cv.cvtColor(img, cv.COLOR_BGR2YUV)\n",
    "                img_yuv[:, :, 0] = cv.equalizeHist(img_yuv[:, :, 0])\n",
    "                img = cv.cvtColor(img_yuv, cv.COLOR_YUV2BGR)\n",
    "        \n",
    "        preprocessed.append(img)\n",
    "    return preprocessed"
   ]
  },
  {
   "cell_type": "markdown",
   "metadata": {},
   "source": [
    "Gaussian blur reduce the errors on edges, so it should reduce false positive, focus on significative changes. Bilateral add a sector to preserve edges."
   ]
  },
  {
   "cell_type": "code",
   "execution_count": 33,
   "metadata": {},
   "outputs": [],
   "source": [
    "showImage()"
   ]
  },
  {
   "cell_type": "code",
   "execution_count": 10,
   "metadata": {},
   "outputs": [],
   "source": [
    "preprocessed = preprocess(gamma=[True, 0.7], equalize=False, grayscale=False, bilateral_filter=True)"
   ]
  },
  {
   "cell_type": "code",
   "execution_count": 11,
   "metadata": {},
   "outputs": [
    {
     "ename": "",
     "evalue": "",
     "output_type": "error",
     "traceback": [
      "\u001b[1;31mThe Kernel crashed while executing code in the current cell or a previous cell. \n",
      "\u001b[1;31mPlease review the code in the cell(s) to identify a possible cause of the failure. \n",
      "\u001b[1;31mClick <a href='https://aka.ms/vscodeJupyterKernelCrash'>here</a> for more info. \n",
      "\u001b[1;31mView Jupyter <a href='command:jupyter.viewOutput'>log</a> for further details."
     ]
    }
   ],
   "source": [
    "showImage(preprocessed=[True, preprocessed[0]])"
   ]
  },
  {
   "cell_type": "code",
   "execution_count": 1,
   "metadata": {},
   "outputs": [
    {
     "data": {
      "text/plain": [
       "'\\ndef detectRoadSigns(image_path):\\n    # Carica l\\'immagine\\n    img = cv.imread(image_path)\\n    if img is None:\\n        print(f\"Error: Cannot load image at {image_path}\")\\n        return\\n    \\n    # Preprocess\\n    preprocessed = preprocess(gamma=[False, 0.7], equalize=False, grayscale=True, gaussianBlur=True)\\n\\n    # Utilizza il rilevamento dei bordi di Canny\\n    edges = cv.Canny(preprocessed[0], 100, 200)\\n    \\n    # Applica la trasformata di Hough per rilevare cerchi\\n    circles = cv.HoughCircles(\\n    preprocessed[0],\\n    cv.HOUGH_GRADIENT,\\n    dp=1.2,\\n    minDist=50,\\n    param1=100,\\n    param2=40,\\n    minRadius=15,\\n    maxRadius=50\\n)\\n    \\n    # Se vengono rilevati cerchi, disegnali sull\\'immagine originale\\n    if circles is not None:\\n        circles = np.round(circles[0, :]).astype(\"int\")\\n        for (x, y, r) in circles:\\n            cv.circle(img, (x, y), r, (0, 255, 0), 4)\\n            cv.rectangle(img, (x - r, y - r), (x + r, y + r), (0, 128, 255), 2)\\n    \\n    return img\\n\\nshowImage([True, detectRoadSigns(\"data/easy/rs3.jpg\")])\\n'"
      ]
     },
     "execution_count": 1,
     "metadata": {},
     "output_type": "execute_result"
    }
   ],
   "source": [
    "\"\"\"\n",
    "def detectRoadSigns(image_path):\n",
    "    # Carica l'immagine\n",
    "    img = cv.imread(image_path)\n",
    "    if img is None:\n",
    "        print(f\"Error: Cannot load image at {image_path}\")\n",
    "        return\n",
    "    \n",
    "    # Preprocess\n",
    "    preprocessed = preprocess(gamma=[False, 0.7], equalize=False, grayscale=True, gaussianBlur=True)\n",
    "\n",
    "    # Utilizza il rilevamento dei bordi di Canny\n",
    "    edges = cv.Canny(preprocessed[0], 100, 200)\n",
    "    \n",
    "    # Applica la trasformata di Hough per rilevare cerchi\n",
    "    circles = cv.HoughCircles(\n",
    "    preprocessed[0],\n",
    "    cv.HOUGH_GRADIENT,\n",
    "    dp=1.2,\n",
    "    minDist=50,\n",
    "    param1=100,\n",
    "    param2=40,\n",
    "    minRadius=15,\n",
    "    maxRadius=50\n",
    ")\n",
    "    \n",
    "    # Se vengono rilevati cerchi, disegnali sull'immagine originale\n",
    "    if circles is not None:\n",
    "        circles = np.round(circles[0, :]).astype(\"int\")\n",
    "        for (x, y, r) in circles:\n",
    "            cv.circle(img, (x, y), r, (0, 255, 0), 4)\n",
    "            cv.rectangle(img, (x - r, y - r), (x + r, y + r), (0, 128, 255), 2)\n",
    "    \n",
    "    return img\n",
    "\n",
    "showImage([True, detectRoadSigns(\"data/easy/rs3.jpg\")])\n",
    "\"\"\"\n"
   ]
  }
 ],
 "metadata": {
  "kernelspec": {
   "display_name": "generalEnv",
   "language": "python",
   "name": "python3"
  },
  "language_info": {
   "codemirror_mode": {
    "name": "ipython",
    "version": 3
   },
   "file_extension": ".py",
   "mimetype": "text/x-python",
   "name": "python",
   "nbconvert_exporter": "python",
   "pygments_lexer": "ipython3",
   "version": "3.12.8"
  }
 },
 "nbformat": 4,
 "nbformat_minor": 2
}
